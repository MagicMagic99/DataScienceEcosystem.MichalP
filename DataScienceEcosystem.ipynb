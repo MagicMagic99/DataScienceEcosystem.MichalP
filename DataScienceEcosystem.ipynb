{
  "metadata": {
    "kernelspec": {
      "name": "python",
      "display_name": "Python (Pyodide)",
      "language": "python"
    },
    "language_info": {
      "codemirror_mode": {
        "name": "python",
        "version": 3
      },
      "file_extension": ".py",
      "mimetype": "text/x-python",
      "name": "python",
      "nbconvert_exporter": "python",
      "pygments_lexer": "ipython3",
      "version": "3.8"
    }
  },
  "nbformat_minor": 5,
  "nbformat": 4,
  "cells": [
    {
      "id": "a8dc14cd-df2c-4c96-9eb2-239a023577ab",
      "cell_type": "markdown",
      "source": "# Data Science Tools and Ecosystem",
      "metadata": {}
    },
    {
      "id": "41f47821-04ca-40ae-8dcb-845ddaa2e800",
      "cell_type": "markdown",
      "source": "In this notebook, Data Science Tools and Ecosystem are summarized.",
      "metadata": {}
    },
    {
      "id": "2a5188fa-be0b-4e85-a427-92f1ef7bf0dc",
      "cell_type": "markdown",
      "source": "**Objectives**\n* Popular languages in Data Science\n* Data Science tools\n* Arithmetic expressions in Python",
      "metadata": {}
    },
    {
      "id": "3312f0c9-0eac-4fb4-b1f0-66856161379f",
      "cell_type": "markdown",
      "source": "Some of the popular languages that Data Scientists use are:\n1. Python\n2. R\n3. SQL",
      "metadata": {}
    },
    {
      "id": "98dfdaa7-7877-4e07-9b34-7f6a6080074a",
      "cell_type": "markdown",
      "source": "Some of the commonly used libraries used by Data Scientists include:\n1. Pandas\n2. NumPy\n3. Matplotlib",
      "metadata": {}
    },
    {
      "id": "94097d52-05eb-4265-b350-aa72700cb94b",
      "cell_type": "markdown",
      "source": "| Data Science Tools |\n|--------------------|\n| Jupyter Notebook |\n| KNIME |\n| RStudio |",
      "metadata": {}
    },
    {
      "id": "17f74c31-8215-495f-a222-3025cdbfc641",
      "cell_type": "markdown",
      "source": "### Below are a few examples of evaluating arithmetic expressions in Python",
      "metadata": {}
    },
    {
      "id": "ca29f04f-7e73-493c-8626-95aa5ffed6cf",
      "cell_type": "code",
      "source": "# This a simple arithmetic expression to mutiply then add integers\n(3*4)+5",
      "metadata": {
        "trusted": true
      },
      "outputs": [
        {
          "execution_count": 1,
          "output_type": "execute_result",
          "data": {
            "text/plain": "17"
          },
          "metadata": {}
        }
      ],
      "execution_count": 1
    },
    {
      "id": "f4235ec9-0959-4592-a9b2-71f36b0875fd",
      "cell_type": "markdown",
      "source": "# This will convert 200 minutes to hours by dividing by 60\n200/60",
      "metadata": {}
    },
    {
      "id": "e1dd24f3-e758-48ed-afa7-15cb6b1bfc14",
      "cell_type": "markdown",
      "source": "## Author\nMichal Precikowski",
      "metadata": {}
    }
  ]
}