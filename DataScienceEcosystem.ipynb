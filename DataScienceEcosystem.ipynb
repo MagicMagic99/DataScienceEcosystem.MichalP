{
 "cells": [
  {
   "cell_type": "markdown",
   "id": "a8dc14cd-df2c-4c96-9eb2-239a023577ab",
   "metadata": {},
   "source": [
    "# Data Science Tools and Ecosystem"
   ]
  },
  {
   "cell_type": "markdown",
   "id": "1a78bd83-883c-4301-af0d-7f1f357acebd",
   "metadata": {},
   "source": [
    "In this notebook, Data Science Tools and Ecosystem are summarized."
   ]
  },
  {
   "cell_type": "markdown",
   "id": "8628e851-75cc-4d1f-bfda-9a4c25e60f05",
   "metadata": {},
   "source": [
    "**Objectives**\n",
    "* Popular languages in Data Science\n",
    "* Data Science tools\n",
    "* Arithmetic expressions in Python"
   ]
  },
  {
   "cell_type": "markdown",
   "id": "9deeec58-df89-4ad6-8339-403d5dd3d171",
   "metadata": {},
   "source": [
    "Some of the popular languages that Data Scientists use are:\n",
    "1. Python\n",
    "2. R\n",
    "3. SQL"
   ]
  },
  {
   "cell_type": "markdown",
   "id": "5e1a18b9-3f27-468d-bd30-bc608409b0fa",
   "metadata": {},
   "source": [
    "| Data Science Tools |\n",
    "|--------------------|\n",
    "| Jupyter Notebook |\n",
    "| KNIME |\n",
    "| RStudio |"
   ]
  },
  {
   "cell_type": "markdown",
   "id": "ed6390ac-db77-43da-88ab-5728f3e51880",
   "metadata": {},
   "source": [
    "### Below are a few examples of evaluating arithmetic expressions in Python"
   ]
  },
  {
   "cell_type": "code",
   "execution_count": 2,
   "id": "64c47aa3-0fe7-4021-a5be-d3c63530a7e7",
   "metadata": {},
   "outputs": [
    {
     "data": {
      "text/plain": [
       "3.3333333333333335"
      ]
     },
     "execution_count": 2,
     "metadata": {},
     "output_type": "execute_result"
    }
   ],
   "source": [
    "# This will convert 200 minutes to hours by dividing by 60\n",
    "200/60"
   ]
  },
  {
   "cell_type": "markdown",
   "id": "ebf54a1f-a61e-4670-8ef8-ee765932ffcf",
   "metadata": {},
   "source": [
    "## Author\n",
    "Michal Precikowski"
   ]
  }
 ],
 "metadata": {
  "kernelspec": {
   "display_name": "Python 3 (ipykernel)",
   "language": "python",
   "name": "python3"
  },
  "language_info": {
   "codemirror_mode": {
    "name": "ipython",
    "version": 3
   },
   "file_extension": ".py",
   "mimetype": "text/x-python",
   "name": "python",
   "nbconvert_exporter": "python",
   "pygments_lexer": "ipython3",
   "version": "3.10.12"
  }
 },
 "nbformat": 4,
 "nbformat_minor": 5
}
